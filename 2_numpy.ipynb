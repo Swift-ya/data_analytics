{
 "cells": [
  {
   "cell_type": "code",
   "execution_count": 1,
   "metadata": {},
   "outputs": [
    {
     "name": "stdout",
     "output_type": "stream",
     "text": [
      "Collecting numpy\n",
      "  Obtaining dependency information for numpy from https://files.pythonhosted.org/packages/28/75/3b679b41713bb60e2e8f6e2f87be72c971c9e718b1c17b8f8749240ddca8/numpy-1.26.2-cp312-cp312-win_amd64.whl.metadata\n",
      "  Downloading numpy-1.26.2-cp312-cp312-win_amd64.whl.metadata (61 kB)\n",
      "     ---------------------------------------- 0.0/61.2 kB ? eta -:--:--\n",
      "     ------ --------------------------------- 10.2/61.2 kB ? eta -:--:--\n",
      "     ------ --------------------------------- 10.2/61.2 kB ? eta -:--:--\n",
      "     ------------ ------------------------- 20.5/61.2 kB 131.3 kB/s eta 0:00:01\n",
      "     ------------------- ------------------ 30.7/61.2 kB 130.4 kB/s eta 0:00:01\n",
      "     ------------------- ------------------ 30.7/61.2 kB 130.4 kB/s eta 0:00:01\n",
      "     ------------------------- ------------ 41.0/61.2 kB 140.3 kB/s eta 0:00:01\n",
      "     ------------------------------- ------ 51.2/61.2 kB 154.0 kB/s eta 0:00:01\n",
      "     -------------------------------------- 61.2/61.2 kB 162.8 kB/s eta 0:00:00\n",
      "Downloading numpy-1.26.2-cp312-cp312-win_amd64.whl (15.5 MB)\n",
      "   ---------------------------------------- 0.0/15.5 MB ? eta -:--:--\n",
      "   ---------------------------------------- 0.0/15.5 MB 640.0 kB/s eta 0:00:25\n",
      "   ---------------------------------------- 0.1/15.5 MB 907.3 kB/s eta 0:00:17\n",
      "   ---------------------------------------- 0.1/15.5 MB 871.5 kB/s eta 0:00:18\n",
      "   ---------------------------------------- 0.1/15.5 MB 871.5 kB/s eta 0:00:18\n",
      "   ---------------------------------------- 0.1/15.5 MB 514.3 kB/s eta 0:00:30\n",
      "    --------------------------------------- 0.2/15.5 MB 692.9 kB/s eta 0:00:23\n",
      "    --------------------------------------- 0.3/15.5 MB 883.3 kB/s eta 0:00:18\n",
      "    --------------------------------------- 0.3/15.5 MB 871.5 kB/s eta 0:00:18\n",
      "    --------------------------------------- 0.3/15.5 MB 780.0 kB/s eta 0:00:20\n",
      "   - -------------------------------------- 0.4/15.5 MB 924.8 kB/s eta 0:00:17\n",
      "   - -------------------------------------- 0.5/15.5 MB 983.0 kB/s eta 0:00:16\n",
      "   - -------------------------------------- 0.6/15.5 MB 1.1 MB/s eta 0:00:15\n",
      "   - -------------------------------------- 0.6/15.5 MB 1.1 MB/s eta 0:00:15\n",
      "   - -------------------------------------- 0.7/15.5 MB 1.0 MB/s eta 0:00:15\n",
      "   -- ------------------------------------- 0.8/15.5 MB 1.2 MB/s eta 0:00:13\n",
      "   -- ------------------------------------- 1.1/15.5 MB 1.4 MB/s eta 0:00:10\n",
      "   -- ------------------------------------- 1.1/15.5 MB 1.4 MB/s eta 0:00:10\n",
      "   --- ------------------------------------ 1.3/15.5 MB 1.5 MB/s eta 0:00:10\n",
      "   --- ------------------------------------ 1.5/15.5 MB 1.7 MB/s eta 0:00:09\n",
      "   ----- ---------------------------------- 2.0/15.5 MB 2.1 MB/s eta 0:00:07\n",
      "   ----- ---------------------------------- 2.3/15.5 MB 2.4 MB/s eta 0:00:06\n",
      "   ------ --------------------------------- 2.4/15.5 MB 2.3 MB/s eta 0:00:06\n",
      "   ------- -------------------------------- 2.9/15.5 MB 2.8 MB/s eta 0:00:05\n",
      "   -------- ------------------------------- 3.5/15.5 MB 3.1 MB/s eta 0:00:04\n",
      "   ---------- ----------------------------- 4.0/15.5 MB 3.5 MB/s eta 0:00:04\n",
      "   ----------- ---------------------------- 4.6/15.5 MB 3.8 MB/s eta 0:00:03\n",
      "   ------------- -------------------------- 5.1/15.5 MB 4.1 MB/s eta 0:00:03\n",
      "   -------------- ------------------------- 5.7/15.5 MB 4.4 MB/s eta 0:00:03\n",
      "   --------------- ------------------------ 6.1/15.5 MB 4.5 MB/s eta 0:00:03\n",
      "   --------------- ------------------------ 6.1/15.5 MB 4.5 MB/s eta 0:00:03\n",
      "   --------------- ------------------------ 6.1/15.5 MB 4.5 MB/s eta 0:00:03\n",
      "   --------------- ------------------------ 6.1/15.5 MB 4.5 MB/s eta 0:00:03\n",
      "   --------------- ------------------------ 6.1/15.5 MB 4.5 MB/s eta 0:00:03\n",
      "   --------------- ------------------------ 6.1/15.5 MB 3.9 MB/s eta 0:00:03\n",
      "   ----------------- ---------------------- 6.7/15.5 MB 4.1 MB/s eta 0:00:03\n",
      "   ------------------- -------------------- 7.7/15.5 MB 4.6 MB/s eta 0:00:02\n",
      "   ----------------------- ---------------- 8.9/15.5 MB 5.2 MB/s eta 0:00:02\n",
      "   -------------------------- ------------- 10.2/15.5 MB 5.8 MB/s eta 0:00:01\n",
      "   ---------------------------- ----------- 11.2/15.5 MB 9.4 MB/s eta 0:00:01\n",
      "   ------------------------------ --------- 12.0/15.5 MB 10.7 MB/s eta 0:00:01\n",
      "   ------------------------------- -------- 12.3/15.5 MB 10.9 MB/s eta 0:00:01\n",
      "   ------------------------------- -------- 12.3/15.5 MB 10.9 MB/s eta 0:00:01\n",
      "   ------------------------------- -------- 12.3/15.5 MB 10.9 MB/s eta 0:00:01\n",
      "   ------------------------------- -------- 12.3/15.5 MB 10.9 MB/s eta 0:00:01\n",
      "   -------------------------------- ------- 12.6/15.5 MB 9.5 MB/s eta 0:00:01\n",
      "   ---------------------------------- ----- 13.2/15.5 MB 9.5 MB/s eta 0:00:01\n",
      "   -------------------------------------- - 14.8/15.5 MB 10.6 MB/s eta 0:00:01\n",
      "   -------------------------------------- - 15.0/15.5 MB 10.6 MB/s eta 0:00:01\n",
      "   ---------------------------------------  15.2/15.5 MB 9.8 MB/s eta 0:00:01\n",
      "   ---------------------------------------  15.5/15.5 MB 9.8 MB/s eta 0:00:01\n",
      "   ---------------------------------------- 15.5/15.5 MB 9.2 MB/s eta 0:00:00\n",
      "Installing collected packages: numpy\n",
      "Successfully installed numpy-1.26.2\n",
      "Note: you may need to restart the kernel to use updated packages.\n"
     ]
    },
    {
     "name": "stderr",
     "output_type": "stream",
     "text": [
      "\n",
      "[notice] A new release of pip is available: 23.2.1 -> 23.3.1\n",
      "[notice] To update, run: python.exe -m pip install --upgrade pip\n"
     ]
    }
   ],
   "source": [
    "%pip install numpy"
   ]
  },
  {
   "cell_type": "code",
   "execution_count": 2,
   "metadata": {},
   "outputs": [],
   "source": [
    "import numpy as np"
   ]
  },
  {
   "cell_type": "code",
   "execution_count": 3,
   "metadata": {},
   "outputs": [
    {
     "data": {
      "text/plain": [
       "[10, 20, 30]"
      ]
     },
     "execution_count": 3,
     "metadata": {},
     "output_type": "execute_result"
    }
   ],
   "source": [
    "# создание массива на базе списка\n",
    "lst_1 = [10, 20, 30]   # массивы однотипные\n",
    "\n",
    "lst_1"
   ]
  },
  {
   "cell_type": "code",
   "execution_count": 4,
   "metadata": {},
   "outputs": [
    {
     "data": {
      "text/plain": [
       "array([10, 20, 30])"
      ]
     },
     "execution_count": 4,
     "metadata": {},
     "output_type": "execute_result"
    }
   ],
   "source": [
    "arr_1 = np.array(lst_1)\n",
    "\n",
    "arr_1"
   ]
  },
  {
   "cell_type": "code",
   "execution_count": 12,
   "metadata": {},
   "outputs": [
    {
     "data": {
      "text/plain": [
       "array([[0., 0., 0.],\n",
       "       [0., 0., 0.]])"
      ]
     },
     "execution_count": 12,
     "metadata": {},
     "output_type": "execute_result"
    }
   ],
   "source": [
    "# создание 1 - мерного массива из нулей\n",
    "arr_2 = np.zeros((2,3)) \n",
    "arr_2"
   ]
  },
  {
   "cell_type": "markdown",
   "metadata": {},
   "source": [
    "- 1-мерный массив (вектор-строка)\n",
    "- 2-мерный массивы (вектор-столбец, матрица)"
   ]
  },
  {
   "cell_type": "code",
   "execution_count": 13,
   "metadata": {},
   "outputs": [
    {
     "data": {
      "text/plain": [
       "array([0., 0., 0.])"
      ]
     },
     "execution_count": 13,
     "metadata": {},
     "output_type": "execute_result"
    }
   ],
   "source": [
    "# 1-мерный массив\n",
    "np.zeros(3)"
   ]
  },
  {
   "cell_type": "code",
   "execution_count": 28,
   "metadata": {},
   "outputs": [
    {
     "data": {
      "text/plain": [
       "array([[0.00000000e+000, 0.00000000e+000, 0.00000000e+000],\n",
       "       [0.00000000e+000, 0.00000000e+000, 0.00000000e+000],\n",
       "       [0.00000000e+000, 0.00000000e+000, 0.00000000e+000],\n",
       "       [0.00000000e+000, 0.00000000e+000, 0.00000000e+000],\n",
       "       [0.00000000e+000, 0.00000000e+000, 6.81019663e-310]])"
      ]
     },
     "execution_count": 28,
     "metadata": {},
     "output_type": "execute_result"
    }
   ],
   "source": [
    "# 2-мерные массивы\n",
    "\n",
    "# аналог вектор-столбца\n",
    "np.empty((5,3))"
   ]
  },
  {
   "cell_type": "code",
   "execution_count": 26,
   "metadata": {},
   "outputs": [
    {
     "data": {
      "text/plain": [
       "array([[1., 1., 1.],\n",
       "       [1., 1., 1.],\n",
       "       [1., 1., 1.]])"
      ]
     },
     "execution_count": 26,
     "metadata": {},
     "output_type": "execute_result"
    }
   ],
   "source": [
    "# аналог матрицы \n",
    "np.ones((3,3))"
   ]
  },
  {
   "cell_type": "markdown",
   "metadata": {},
   "source": [
    "- генерация массивов со случайными значениями"
   ]
  },
  {
   "cell_type": "code",
   "execution_count": 51,
   "metadata": {},
   "outputs": [
    {
     "data": {
      "text/plain": [
       "array([ 9,  2,  9,  3,  6, -3,  8])"
      ]
     },
     "execution_count": 51,
     "metadata": {},
     "output_type": "execute_result"
    }
   ],
   "source": [
    "# 1-мерный массив случайных целых значений\n",
    "\n",
    "# np.random.randint(30)\n",
    "# np.random.randint(10, size=7)\n",
    "np.random.randint(-5, 10, size=7)\n"
   ]
  },
  {
   "cell_type": "code",
   "execution_count": 66,
   "metadata": {},
   "outputs": [
    {
     "data": {
      "text/plain": [
       "array([[ 6, -1,  0],\n",
       "       [ 2, -3,  6]])"
      ]
     },
     "execution_count": 66,
     "metadata": {},
     "output_type": "execute_result"
    }
   ],
   "source": [
    "# 2-мерный массив случайных целых значений\n",
    "np.random.randint(-5, 10, size=(2,3))"
   ]
  },
  {
   "cell_type": "code",
   "execution_count": 67,
   "metadata": {},
   "outputs": [
    {
     "data": {
      "text/plain": [
       "array([[-0.82240303, -0.29744014,  0.2934663 ,  0.50206658],\n",
       "       [ 0.77945113,  0.0183671 , -0.8441534 ,  1.29387875],\n",
       "       [-0.69921142,  0.70242586,  0.54850036,  0.94933909]])"
      ]
     },
     "execution_count": 67,
     "metadata": {},
     "output_type": "execute_result"
    }
   ],
   "source": [
    "# массив случайных чисел с плавающей точкой\n",
    "# из нормального (гауссова) распределения\n",
    "np.random.randn(3, 4)"
   ]
  },
  {
   "cell_type": "markdown",
   "metadata": {},
   "source": [
    "- атрибуты"
   ]
  },
  {
   "cell_type": "code",
   "execution_count": 68,
   "metadata": {},
   "outputs": [
    {
     "data": {
      "text/plain": [
       "(3,)"
      ]
     },
     "execution_count": 68,
     "metadata": {},
     "output_type": "execute_result"
    }
   ],
   "source": [
    "# форма массива\n",
    "arr_1.shape"
   ]
  },
  {
   "cell_type": "code",
   "execution_count": 69,
   "metadata": {},
   "outputs": [
    {
     "data": {
      "text/plain": [
       "(2, 3)"
      ]
     },
     "execution_count": 69,
     "metadata": {},
     "output_type": "execute_result"
    }
   ],
   "source": [
    "arr_2.shape"
   ]
  },
  {
   "cell_type": "code",
   "execution_count": 71,
   "metadata": {},
   "outputs": [
    {
     "data": {
      "text/plain": [
       "dtype('int32')"
      ]
     },
     "execution_count": 71,
     "metadata": {},
     "output_type": "execute_result"
    }
   ],
   "source": [
    "# тип данных\n",
    "arr_1.dtype"
   ]
  },
  {
   "cell_type": "code",
   "execution_count": 72,
   "metadata": {},
   "outputs": [
    {
     "data": {
      "text/plain": [
       "dtype('float64')"
      ]
     },
     "execution_count": 72,
     "metadata": {},
     "output_type": "execute_result"
    }
   ],
   "source": [
    "arr_2.dtype"
   ]
  },
  {
   "cell_type": "code",
   "execution_count": 73,
   "metadata": {},
   "outputs": [
    {
     "data": {
      "text/plain": [
       "12"
      ]
     },
     "execution_count": 73,
     "metadata": {},
     "output_type": "execute_result"
    }
   ],
   "source": [
    "# объем занимаемой памяти (в байтах)\n",
    "arr_1.nbytes"
   ]
  },
  {
   "cell_type": "code",
   "execution_count": 74,
   "metadata": {},
   "outputs": [
    {
     "data": {
      "text/plain": [
       "48"
      ]
     },
     "execution_count": 74,
     "metadata": {},
     "output_type": "execute_result"
    }
   ],
   "source": [
    "arr_2.nbytes"
   ]
  },
  {
   "cell_type": "markdown",
   "metadata": {},
   "source": [
    "- методы "
   ]
  },
  {
   "cell_type": "code",
   "execution_count": 98,
   "metadata": {},
   "outputs": [
    {
     "data": {
      "text/plain": [
       "array([[-5, -4,  2],\n",
       "       [-2,  2, -1]])"
      ]
     },
     "execution_count": 98,
     "metadata": {},
     "output_type": "execute_result"
    }
   ],
   "source": [
    "# конвертация типа данных\n",
    "arr_3 = np.random.randint(-5, 5, size=(2,3))\n",
    "arr_3"
   ]
  },
  {
   "cell_type": "code",
   "execution_count": 77,
   "metadata": {},
   "outputs": [
    {
     "data": {
      "text/plain": [
       "dtype('int32')"
      ]
     },
     "execution_count": 77,
     "metadata": {},
     "output_type": "execute_result"
    }
   ],
   "source": [
    "arr_3.dtype"
   ]
  },
  {
   "cell_type": "code",
   "execution_count": 78,
   "metadata": {},
   "outputs": [
    {
     "data": {
      "text/plain": [
       "array([[ 4., -1., -2.],\n",
       "       [-1., -5.,  0.]], dtype=float16)"
      ]
     },
     "execution_count": 78,
     "metadata": {},
     "output_type": "execute_result"
    }
   ],
   "source": [
    "arr_3.astype(\"float16\")"
   ]
  },
  {
   "cell_type": "code",
   "execution_count": 89,
   "metadata": {},
   "outputs": [
    {
     "data": {
      "text/plain": [
       "-5"
      ]
     },
     "execution_count": 89,
     "metadata": {},
     "output_type": "execute_result"
    }
   ],
   "source": [
    "# минимальное значение по всему массиву\n",
    "arr_3.min()"
   ]
  },
  {
   "cell_type": "code",
   "execution_count": 94,
   "metadata": {},
   "outputs": [
    {
     "data": {
      "text/plain": [
       "array([-1, -5, -2])"
      ]
     },
     "execution_count": 94,
     "metadata": {},
     "output_type": "execute_result"
    }
   ],
   "source": [
    "# минимальное значение по какой-то оси\n",
    "arr_3.min(0)"
   ]
  },
  {
   "cell_type": "code",
   "execution_count": 104,
   "metadata": {},
   "outputs": [],
   "source": [
    "# сортировка массива\n",
    "arr_3.sort(0)\n"
   ]
  },
  {
   "cell_type": "code",
   "execution_count": 105,
   "metadata": {},
   "outputs": [
    {
     "data": {
      "text/plain": [
       "array([[-5, -4, -1],\n",
       "       [-2,  2,  2]])"
      ]
     },
     "execution_count": 105,
     "metadata": {},
     "output_type": "execute_result"
    }
   ],
   "source": [
    "arr_3"
   ]
  },
  {
   "cell_type": "code",
   "execution_count": 107,
   "metadata": {},
   "outputs": [
    {
     "data": {
      "text/plain": [
       "array([[-3,  3, -2,  3, -2],\n",
       "       [-3, -2, -2, -4, -1],\n",
       "       [-3, -1, -4, -5, -1],\n",
       "       [ 0, -3, -2, -2, -4],\n",
       "       [ 4,  4,  3, -4,  3]])"
      ]
     },
     "execution_count": 107,
     "metadata": {},
     "output_type": "execute_result"
    }
   ],
   "source": [
    "arr_4 = np.random.randint(-5, 5, size=(5,5))\n",
    "arr_4"
   ]
  },
  {
   "cell_type": "code",
   "execution_count": 108,
   "metadata": {},
   "outputs": [
    {
     "data": {
      "text/plain": [
       "-3"
      ]
     },
     "execution_count": 108,
     "metadata": {},
     "output_type": "execute_result"
    }
   ],
   "source": [
    "arr_4[0][0]"
   ]
  },
  {
   "cell_type": "code",
   "execution_count": 109,
   "metadata": {},
   "outputs": [
    {
     "data": {
      "text/plain": [
       "-3"
      ]
     },
     "execution_count": 109,
     "metadata": {},
     "output_type": "execute_result"
    }
   ],
   "source": [
    "arr_4[0,0]"
   ]
  },
  {
   "cell_type": "code",
   "execution_count": 115,
   "metadata": {},
   "outputs": [
    {
     "data": {
      "text/plain": [
       "array([[-3,  3, -2],\n",
       "       [-3, -2, -2],\n",
       "       [-3, -1, -4],\n",
       "       [ 0, -3, -2],\n",
       "       [ 4,  4,  3]])"
      ]
     },
     "execution_count": 115,
     "metadata": {},
     "output_type": "execute_result"
    }
   ],
   "source": [
    "arr_4[:,:3]"
   ]
  }
 ],
 "metadata": {
  "kernelspec": {
   "display_name": "Python 3",
   "language": "python",
   "name": "python3"
  },
  "language_info": {
   "codemirror_mode": {
    "name": "ipython",
    "version": 3
   },
   "file_extension": ".py",
   "mimetype": "text/x-python",
   "name": "python",
   "nbconvert_exporter": "python",
   "pygments_lexer": "ipython3",
   "version": "3.12.0"
  }
 },
 "nbformat": 4,
 "nbformat_minor": 2
}
